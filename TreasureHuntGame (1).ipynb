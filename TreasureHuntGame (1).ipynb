{
 "cells": [
  {
   "cell_type": "markdown",
   "metadata": {},
   "source": [
    "# Treasure Hunt Game Notebook\n",
    "\n",
    "## Read and Review Your Starter Code\n",
    "The theme of this project is a popular treasure hunt game in which the player needs to find the treasure before the pirate does. While you will not be developing the entire game, you will write the part of the game that represents the intelligent agent, which is a pirate in this case. The pirate will try to find the optimal path to the treasure using deep Q-learning. \n",
    "\n",
    "You have been provided with two Python classes and this notebook to help you with this assignment. The first class, TreasureMaze.py, represents the environment, which includes a maze object defined as a matrix. The second class, GameExperience.py, stores the episodes – that is, all the states that come in between the initial state and the terminal state. This is later used by the agent for learning by experience, called \"exploration\". This notebook shows how to play a game. Your task is to complete the deep Q-learning implementation for which a skeleton implementation has been provided. The code blocs you will need to complete has #TODO as a header.\n",
    "\n",
    "First, read and review the next few code and instruction blocks to understand the code that you have been given."
   ]
  },
  {
   "cell_type": "code",
   "execution_count": 1,
   "metadata": {},
   "outputs": [
    {
     "name": "stderr",
     "output_type": "stream",
     "text": [
      "Using TensorFlow backend.\n"
     ]
    }
   ],
   "source": [
    "from __future__ import print_function\n",
    "import os, sys, time, datetime, json, random\n",
    "import numpy as np\n",
    "from keras.models import Sequential\n",
    "from keras.layers.core import Dense, Activation\n",
    "from keras.optimizers import SGD , Adam, RMSprop\n",
    "from keras.layers.advanced_activations import PReLU\n",
    "import matplotlib.pyplot as plt\n",
    "from TreasureMaze import TreasureMaze\n",
    "from GameExperience import GameExperience\n",
    "import random\n",
    "%matplotlib inline"
   ]
  },
  {
   "cell_type": "markdown",
   "metadata": {},
   "source": [
    "The following code block contains an 8x8 matrix that will be used as a maze object:"
   ]
  },
  {
   "cell_type": "code",
   "execution_count": 2,
   "metadata": {},
   "outputs": [],
   "source": [
    "maze = np.array([\n",
    "    [ 1.,  0.,  1.,  1.,  1.,  1.,  1.,  1.],\n",
    "    [ 1.,  0.,  1.,  1.,  1.,  0.,  1.,  1.],\n",
    "    [ 1.,  1.,  1.,  1.,  0.,  1.,  0.,  1.],\n",
    "    [ 1.,  1.,  1.,  0.,  1.,  1.,  1.,  1.],\n",
    "    [ 1.,  1.,  0.,  1.,  1.,  1.,  1.,  1.],\n",
    "    [ 1.,  1.,  1.,  0.,  1.,  0.,  0.,  0.],\n",
    "    [ 1.,  1.,  1.,  0.,  1.,  1.,  1.,  1.],\n",
    "    [ 1.,  1.,  1.,  1.,  0.,  1.,  1.,  1.]\n",
    "])"
   ]
  },
  {
   "cell_type": "markdown",
   "metadata": {},
   "source": [
    "This helper function allows a visual representation of the maze object:"
   ]
  },
  {
   "cell_type": "code",
   "execution_count": 3,
   "metadata": {},
   "outputs": [],
   "source": [
    "def show(qmaze):\n",
    "    plt.grid('on')\n",
    "    nrows, ncols = qmaze.maze.shape\n",
    "    ax = plt.gca()\n",
    "    ax.set_xticks(np.arange(0.5, nrows, 1))\n",
    "    ax.set_yticks(np.arange(0.5, ncols, 1))\n",
    "    ax.set_xticklabels([])\n",
    "    ax.set_yticklabels([])\n",
    "    canvas = np.copy(qmaze.maze)\n",
    "    for row,col in qmaze.visited:\n",
    "        canvas[row,col] = 0.6\n",
    "    pirate_row, pirate_col, _ = qmaze.state\n",
    "    canvas[pirate_row, pirate_col] = 0.3   # pirate cell\n",
    "    canvas[nrows-1, ncols-1] = 0.9 # treasure cell\n",
    "    img = plt.imshow(canvas, interpolation='none', cmap='gray')\n",
    "    return img"
   ]
  },
  {
   "cell_type": "markdown",
   "metadata": {},
   "source": [
    "The pirate agent can move in four directions: left, right, up, and down. \n",
    "\n",
    "While the agent primarily learns by experience through exploitation, often, the agent can choose to explore the environment to find previously undiscovered paths. This is called \"exploration\" and is defined by epsilon. This value is typically a lower value such as 0.1, which means for every ten attempts, the agent will attempt to learn by experience nine times and will randomly explore a new path one time. You are encouraged to try various values for the exploration factor and see how the algorithm performs."
   ]
  },
  {
   "cell_type": "code",
   "execution_count": 4,
   "metadata": {},
   "outputs": [],
   "source": [
    "LEFT = 0\n",
    "UP = 1\n",
    "RIGHT = 2\n",
    "DOWN = 3\n",
    "\n",
    "\n",
    "# Exploration factor\n",
    "epsilon = 0.1\n",
    "\n",
    "# Actions dictionary\n",
    "actions_dict = {\n",
    "    LEFT: 'left',\n",
    "    UP: 'up',\n",
    "    RIGHT: 'right',\n",
    "    DOWN: 'down',\n",
    "}\n",
    "\n",
    "num_actions = len(actions_dict)\n"
   ]
  },
  {
   "cell_type": "markdown",
   "metadata": {},
   "source": [
    "The sample code block and output below show creating a maze object and performing one action (DOWN), which returns the reward. The resulting updated environment is visualized."
   ]
  },
  {
   "cell_type": "code",
   "execution_count": 5,
   "metadata": {},
   "outputs": [
    {
     "name": "stdout",
     "output_type": "stream",
     "text": [
      "reward= -0.04\n"
     ]
    },
    {
     "data": {
      "text/plain": [
       "<matplotlib.image.AxesImage at 0x253af523a48>"
      ]
     },
     "execution_count": 5,
     "metadata": {},
     "output_type": "execute_result"
    },
    {
     "data": {
      "image/png": "[encoded data removed]",
      "text/plain": [
       "<Figure size 432x288 with 1 Axes>"
      ]
     },
     "metadata": {
      "needs_background": "light"
     },
     "output_type": "display_data"
    }
   ],
   "source": [
    "qmaze = TreasureMaze(maze)\n",
    "canvas, reward, game_over = qmaze.act(DOWN)\n",
    "print(\"reward=\", reward)\n",
    "show(qmaze)"
   ]
  },
  {
   "cell_type": "markdown",
   "metadata": {},
   "source": [
    "This function simulates a full game based on the provided trained model. The other parameters include the TreasureMaze object and the starting position of the pirate."
   ]
  },
  {
   "cell_type": "code",
   "execution_count": 6,
   "metadata": {},
   "outputs": [],
   "source": [
    "def play_game(model, qmaze, pirate_cell):\n",
    "    qmaze.reset(pirate_cell)\n",
    "    envstate = qmaze.observe()\n",
    "    while True:\n",
    "        prev_envstate = envstate\n",
    "        # get next action\n",
    "        q = model.predict(prev_envstate)\n",
    "        action = np.argmax(q[0])\n",
    "\n",
    "        # apply action, get rewards and new state\n",
    "        envstate, reward, game_status = qmaze.act(action)\n",
    "        if game_status == 'win':\n",
    "            return True\n",
    "        elif game_status == 'lose':\n",
    "            return False"
   ]
  },
  {
   "cell_type": "markdown",
   "metadata": {},
   "source": [
    "This function helps you to determine whether the pirate can win any game at all. If your maze is not well designed, the pirate may not win any game at all. In this case, your training would not yield any result. The provided maze in this notebook ensures that there is a path to win and you can run this method to check."
   ]
  },
  {
   "cell_type": "code",
   "execution_count": 7,
   "metadata": {},
   "outputs": [],
   "source": [
    "def completion_check(model, qmaze):\n",
    "    for cell in qmaze.free_cells:\n",
    "        if not qmaze.valid_actions(cell):\n",
    "            return False\n",
    "        if not play_game(model, qmaze, cell):\n",
    "            return False\n",
    "    return True"
   ]
  },
  {
   "cell_type": "markdown",
   "metadata": {},
   "source": [
    "The code you have been given in this block will build the neural network model. Review the code and note the number of layers, as well as the activation, optimizer, and loss functions that are used to train the model."
   ]
  },
  {
   "cell_type": "code",
   "execution_count": 8,
   "metadata": {},
   "outputs": [],
   "source": [
    "def build_model(maze):\n",
    "    model = Sequential()\n",
    "    model.add(Dense(maze.size, input_shape=(maze.size,)))\n",
    "    model.add(PReLU())\n",
    "    model.add(Dense(maze.size))\n",
    "    model.add(PReLU())\n",
    "    model.add(Dense(num_actions))\n",
    "    model.compile(optimizer='adam', loss='mse')\n",
    "    return model"
   ]
  },
  {
   "cell_type": "code",
   "execution_count": 9,
   "metadata": {},
   "outputs": [],
   "source": [
    "def qtrain(model, maze, **opt):\n",
    "\n",
    "    # exploration factor\n",
    "    global epsilon \n",
    "\n",
    "    # number of epochs\n",
    "    n_epoch = opt.get('n_epoch', 15000)\n",
    "\n",
    "    # maximum memory to store episodes\n",
    "    max_memory = opt.get('max_memory', 1000)\n",
    "\n",
    "    # maximum data size for training\n",
    "    data_size = opt.get('data_size', 50)\n",
    "\n",
    "    # start time\n",
    "    start_time = datetime.datetime.now()\n",
    "\n",
    "    # Construct environment/game from numpy array: maze (see above)\n",
    "    qmaze = TreasureMaze(maze)\n",
    "\n",
    "    # Initialize experience replay object\n",
    "    experience = GameExperience(model, max_memory=max_memory)\n",
    "    \n",
    "    win_history = []   # history of win/lose game\n",
    "    hsize = qmaze.maze.size//2   # history window size\n",
    "    win_rate = 0.0\n",
    "    \n",
    "   #Done\n",
    "       \n",
    "    # For each epoch:\n",
    "    #Randomly select a free cell\n",
    "    for epoch in range(n_epoch):\n",
    "        loss = 0\n",
    "        agent_cell = random.choice(qmaze.free_cells)\n",
    "        #reset agent position to set above position\n",
    "        qmaze.reset(agent_cell)\n",
    "        game_is_over = False\n",
    "        # sets env state to current state\n",
    "        env_state = qmaze.observe()\n",
    "        \n",
    "        n_episodes = 0\n",
    "            \n",
    "        #loop until no more valid actions are available\n",
    "        while not game_is_over:\n",
    "            valid_actions = qmaze.valid_actions()\n",
    "            if not valid_actions:\n",
    "                break\n",
    "            previous_env_state = env_state    \n",
    "            # Randomly chooses next action\n",
    "            if np.random.rand() < epsilon:\n",
    "                action = random.choice(valid_actions)\n",
    "            else:\n",
    "                action = np.argmax(experience.predict(previous_env_state))\n",
    "                \n",
    "            envstate, reward, game_status = qmaze.act(action)\n",
    "            \n",
    "            if game_status == 'win':\n",
    "                win_history.append(1)\n",
    "                game_is_over = True\n",
    "            elif game_status == 'lose':\n",
    "                win_history.append(0)\n",
    "                game_is_over = True\n",
    "            else:\n",
    "                game_is_over = False\n",
    "\n",
    "            # Save into experience\n",
    "            episode = [previous_env_state, action, reward, env_state, game_is_over]\n",
    "            experience.remember(episode)\n",
    "\n",
    "            # increase number of episodes\n",
    "            n_episodes += 1\n",
    "            inputs, targets = experience.get_data(data_size=data_size)\n",
    "            model.fit(\n",
    "                inputs,\n",
    "                targets,\n",
    "                epochs=8,\n",
    "                batch_size=16,\n",
    "                verbose=0,\n",
    "            )\n",
    "            loss = model.evaluate(inputs, targets, verbose=0)\n",
    "        if len(win_history) > hsize:\n",
    "            win_rate = sum(win_history[-hsize:]) / hsize\n",
    "            \n",
    "            #end\n",
    "            \n",
    "\n",
    "\n",
    "    #Print the epoch, loss, episodes, win count, and win rate for each epoch\n",
    "        dt = datetime.datetime.now() - start_time\n",
    "        t = format_time(dt.total_seconds())\n",
    "        template = \"Epoch: {:03d}/{:d} | Loss: {:.4f} | Episodes: {:d} | Win count: {:d} | Win rate: {:.3f} | time: {}\"\n",
    "        print(template.format(epoch, n_epoch-1, loss, n_episodes, sum(win_history), win_rate, t))\n",
    "        # We simply check if training has exhausted all free cells and if in all\n",
    "        # cases the agent won.\n",
    "        if win_rate > 0.9 : epsilon = 0.05\n",
    "        if sum(win_history[-hsize:]) == hsize and completion_check(model, qmaze):\n",
    "            print(\"Reached 100%% win rate at epoch: %d\" % (epoch,))\n",
    "            break\n",
    "    \n",
    "    \n",
    "    # Determine the total time for training\n",
    "    dt = datetime.datetime.now() - start_time\n",
    "    seconds = dt.total_seconds()\n",
    "    t = format_time(seconds)\n",
    "\n",
    "    print(\"n_epoch: %d, max_mem: %d, data: %d, time: %s\" % (epoch, max_memory, data_size, t))\n",
    "    return seconds\n",
    "\n",
    "# This is a small utility for printing readable time strings:\n",
    "def format_time(seconds):\n",
    "    if seconds < 400:\n",
    "        s = float(seconds)\n",
    "        return \"%.1f seconds\" % (s,)\n",
    "    elif seconds < 4000:\n",
    "        m = seconds / 60.0\n",
    "        return \"%.2f minutes\" % (m,)\n",
    "    else:\n",
    "        h = seconds / 3600.0\n",
    "        return \"%.2f hours\" % (h,)"
   ]
  },
  {
   "cell_type": "markdown",
   "metadata": {},
   "source": [
    "# #TODO: Complete the Q-Training Algorithm Code Block\n",
    "\n",
    "This is your deep Q-learning implementation. The goal of your deep Q-learning implementation is to find the best possible navigation sequence that results in reaching the treasure cell while maximizing the reward. In your implementation, you need to determine the optimal number of epochs to achieve a 100% win rate.\n",
    "\n",
    "You will need to complete the section starting with #pseudocode. The pseudocode has been included for you."
   ]
  },
  {
   "cell_type": "markdown",
   "metadata": {},
   "source": [
    "## Test Your Model\n",
    "\n",
    "Now we will start testing the deep Q-learning implementation. To begin, select **Cell**, then **Run All** from the menu bar. This will run your notebook. As it runs, you should see output begin to appear beneath the next few cells. The code below creates an instance of TreasureMaze."
   ]
  },
  {
   "cell_type": "code",
   "execution_count": null,
   "metadata": {},
   "outputs": [],
   "source": []
  },
  {
   "cell_type": "code",
   "execution_count": 10,
   "metadata": {},
   "outputs": [
    {
     "data": {
      "text/plain": [
       "<matplotlib.image.AxesImage at 0x253b05b4a88>"
      ]
     },
     "execution_count": 10,
     "metadata": {},
     "output_type": "execute_result"
    },
    {
     "data": {
      "image/png": "[encoded data removed]",
      "text/plain": [
       "<Figure size 432x288 with 1 Axes>"
      ]
     },
     "metadata": {
      "needs_background": "light"
     },
     "output_type": "display_data"
    }
   ],
   "source": [
    "qmaze = TreasureMaze(maze)\n",
    "show(qmaze)"
   ]
  },
  {
   "cell_type": "markdown",
   "metadata": {},
   "source": [
    "In the next code block, you will build your model and train it using deep Q-learning. Note: This step takes several minutes to fully run."
   ]
  },
  {
   "cell_type": "code",
   "execution_count": null,
   "metadata": {},
   "outputs": [
    {
     "name": "stdout",
     "output_type": "stream",
     "text": [
      "Epoch: 000/14999 | Loss: 0.0019 | Episodes: 155 | Win count: 0 | Win rate: 0.000 | time: 23.5 seconds\n",
      "Epoch: 001/14999 | Loss: 0.0021 | Episodes: 145 | Win count: 0 | Win rate: 0.000 | time: 43.7 seconds\n",
      "Epoch: 002/14999 | Loss: 0.0015 | Episodes: 139 | Win count: 0 | Win rate: 0.000 | time: 63.3 seconds\n",
      "Epoch: 003/14999 | Loss: 0.0016 | Episodes: 142 | Win count: 0 | Win rate: 0.000 | time: 85.8 seconds\n",
      "Epoch: 004/14999 | Loss: 0.0022 | Episodes: 27 | Win count: 1 | Win rate: 0.000 | time: 90.3 seconds\n",
      "Epoch: 005/14999 | Loss: 0.0870 | Episodes: 143 | Win count: 1 | Win rate: 0.000 | time: 116.3 seconds\n",
      "Epoch: 006/14999 | Loss: 0.0386 | Episodes: 159 | Win count: 1 | Win rate: 0.000 | time: 145.5 seconds\n",
      "Epoch: 007/14999 | Loss: 0.0024 | Episodes: 18 | Win count: 2 | Win rate: 0.000 | time: 148.6 seconds\n",
      "Epoch: 008/14999 | Loss: 0.0017 | Episodes: 40 | Win count: 3 | Win rate: 0.000 | time: 156.6 seconds\n",
      "Epoch: 009/14999 | Loss: 0.0022 | Episodes: 146 | Win count: 3 | Win rate: 0.000 | time: 183.8 seconds\n",
      "Epoch: 010/14999 | Loss: 0.0035 | Episodes: 140 | Win count: 3 | Win rate: 0.000 | time: 211.0 seconds\n",
      "Epoch: 011/14999 | Loss: 0.0562 | Episodes: 137 | Win count: 3 | Win rate: 0.000 | time: 236.0 seconds\n",
      "Epoch: 012/14999 | Loss: 0.0567 | Episodes: 140 | Win count: 3 | Win rate: 0.000 | time: 261.9 seconds\n",
      "Epoch: 013/14999 | Loss: 0.0020 | Episodes: 137 | Win count: 3 | Win rate: 0.000 | time: 287.3 seconds\n",
      "Epoch: 014/14999 | Loss: 0.0691 | Episodes: 138 | Win count: 3 | Win rate: 0.000 | time: 315.5 seconds\n",
      "Epoch: 015/14999 | Loss: 0.0008 | Episodes: 142 | Win count: 3 | Win rate: 0.000 | time: 344.4 seconds\n",
      "Epoch: 016/14999 | Loss: 0.0014 | Episodes: 140 | Win count: 3 | Win rate: 0.000 | time: 373.9 seconds\n",
      "Epoch: 017/14999 | Loss: 0.0018 | Episodes: 142 | Win count: 3 | Win rate: 0.000 | time: 6.72 minutes\n",
      "Epoch: 018/14999 | Loss: 0.0008 | Episodes: 137 | Win count: 3 | Win rate: 0.000 | time: 7.15 minutes\n",
      "Epoch: 019/14999 | Loss: 0.0015 | Episodes: 145 | Win count: 3 | Win rate: 0.000 | time: 7.61 minutes\n",
      "Epoch: 020/14999 | Loss: 0.0007 | Episodes: 139 | Win count: 3 | Win rate: 0.000 | time: 8.04 minutes\n",
      "Epoch: 021/14999 | Loss: 0.0024 | Episodes: 99 | Win count: 4 | Win rate: 0.000 | time: 8.35 minutes\n",
      "Epoch: 022/14999 | Loss: 0.0019 | Episodes: 150 | Win count: 4 | Win rate: 0.000 | time: 8.81 minutes\n",
      "Epoch: 023/14999 | Loss: 0.0018 | Episodes: 142 | Win count: 4 | Win rate: 0.000 | time: 9.25 minutes\n",
      "Epoch: 024/14999 | Loss: 0.0012 | Episodes: 128 | Win count: 5 | Win rate: 0.000 | time: 9.66 minutes\n",
      "Epoch: 025/14999 | Loss: 0.0577 | Episodes: 141 | Win count: 5 | Win rate: 0.000 | time: 10.12 minutes\n",
      "Epoch: 026/14999 | Loss: 0.0766 | Episodes: 21 | Win count: 6 | Win rate: 0.000 | time: 10.19 minutes\n",
      "Epoch: 027/14999 | Loss: 0.0023 | Episodes: 140 | Win count: 6 | Win rate: 0.000 | time: 10.61 minutes\n",
      "Epoch: 028/14999 | Loss: 0.0016 | Episodes: 139 | Win count: 6 | Win rate: 0.000 | time: 11.06 minutes\n",
      "Epoch: 029/14999 | Loss: 0.0043 | Episodes: 37 | Win count: 7 | Win rate: 0.000 | time: 11.19 minutes\n",
      "Epoch: 030/14999 | Loss: 0.0021 | Episodes: 140 | Win count: 7 | Win rate: 0.000 | time: 11.63 minutes\n",
      "Epoch: 031/14999 | Loss: 0.0017 | Episodes: 141 | Win count: 7 | Win rate: 0.000 | time: 12.08 minutes\n",
      "Epoch: 032/14999 | Loss: 0.1599 | Episodes: 138 | Win count: 7 | Win rate: 0.219 | time: 12.51 minutes\n",
      "Epoch: 033/14999 | Loss: 0.0021 | Episodes: 144 | Win count: 7 | Win rate: 0.219 | time: 12.98 minutes\n",
      "Epoch: 034/14999 | Loss: 0.0014 | Episodes: 142 | Win count: 7 | Win rate: 0.219 | time: 13.42 minutes\n",
      "Epoch: 035/14999 | Loss: 0.0186 | Episodes: 28 | Win count: 8 | Win rate: 0.250 | time: 13.51 minutes\n",
      "Epoch: 036/14999 | Loss: 0.0040 | Episodes: 28 | Win count: 9 | Win rate: 0.250 | time: 13.60 minutes\n",
      "Epoch: 037/14999 | Loss: 0.0108 | Episodes: 148 | Win count: 9 | Win rate: 0.250 | time: 14.08 minutes\n",
      "Epoch: 038/14999 | Loss: 0.0027 | Episodes: 139 | Win count: 9 | Win rate: 0.250 | time: 14.52 minutes\n",
      "Epoch: 039/14999 | Loss: 0.0014 | Episodes: 143 | Win count: 9 | Win rate: 0.219 | time: 14.98 minutes\n",
      "Epoch: 040/14999 | Loss: 0.0027 | Episodes: 125 | Win count: 10 | Win rate: 0.219 | time: 15.37 minutes\n",
      "Epoch: 041/14999 | Loss: 0.0019 | Episodes: 145 | Win count: 10 | Win rate: 0.219 | time: 15.83 minutes\n",
      "Epoch: 042/14999 | Loss: 0.0017 | Episodes: 140 | Win count: 10 | Win rate: 0.219 | time: 16.26 minutes\n",
      "Epoch: 043/14999 | Loss: 0.0013 | Episodes: 138 | Win count: 10 | Win rate: 0.219 | time: 16.69 minutes\n",
      "Epoch: 044/14999 | Loss: 0.1826 | Episodes: 1 | Win count: 11 | Win rate: 0.250 | time: 16.70 minutes\n",
      "Epoch: 045/14999 | Loss: 0.0043 | Episodes: 1 | Win count: 12 | Win rate: 0.281 | time: 16.70 minutes\n",
      "Epoch: 046/14999 | Loss: 0.0012 | Episodes: 139 | Win count: 12 | Win rate: 0.281 | time: 17.15 minutes\n",
      "Epoch: 047/14999 | Loss: 0.0012 | Episodes: 143 | Win count: 12 | Win rate: 0.281 | time: 17.60 minutes\n",
      "Epoch: 048/14999 | Loss: 0.0310 | Episodes: 140 | Win count: 12 | Win rate: 0.281 | time: 18.05 minutes\n",
      "Epoch: 049/14999 | Loss: 0.0013 | Episodes: 140 | Win count: 12 | Win rate: 0.281 | time: 18.50 minutes\n",
      "Epoch: 050/14999 | Loss: 0.0676 | Episodes: 141 | Win count: 12 | Win rate: 0.281 | time: 18.95 minutes\n",
      "Epoch: 051/14999 | Loss: 0.0023 | Episodes: 149 | Win count: 12 | Win rate: 0.281 | time: 19.43 minutes\n",
      "Epoch: 052/14999 | Loss: 0.0019 | Episodes: 144 | Win count: 12 | Win rate: 0.281 | time: 19.86 minutes\n",
      "Epoch: 053/14999 | Loss: 0.0018 | Episodes: 135 | Win count: 12 | Win rate: 0.250 | time: 20.30 minutes\n",
      "Epoch: 054/14999 | Loss: 0.0016 | Episodes: 142 | Win count: 12 | Win rate: 0.250 | time: 20.76 minutes\n",
      "Epoch: 055/14999 | Loss: 0.0014 | Episodes: 143 | Win count: 12 | Win rate: 0.250 | time: 21.21 minutes\n",
      "Epoch: 056/14999 | Loss: 0.0015 | Episodes: 140 | Win count: 12 | Win rate: 0.219 | time: 21.67 minutes\n",
      "Epoch: 057/14999 | Loss: 0.0023 | Episodes: 149 | Win count: 12 | Win rate: 0.219 | time: 22.16 minutes\n",
      "Epoch: 058/14999 | Loss: 0.0566 | Episodes: 151 | Win count: 12 | Win rate: 0.188 | time: 22.64 minutes\n",
      "Epoch: 059/14999 | Loss: 0.0265 | Episodes: 126 | Win count: 13 | Win rate: 0.219 | time: 23.06 minutes\n",
      "Epoch: 060/14999 | Loss: 0.0025 | Episodes: 7 | Win count: 14 | Win rate: 0.250 | time: 23.08 minutes\n",
      "Epoch: 061/14999 | Loss: 0.0520 | Episodes: 148 | Win count: 14 | Win rate: 0.219 | time: 23.56 minutes\n",
      "Epoch: 062/14999 | Loss: 0.0433 | Episodes: 140 | Win count: 14 | Win rate: 0.219 | time: 23.99 minutes\n",
      "Epoch: 063/14999 | Loss: 0.0016 | Episodes: 53 | Win count: 15 | Win rate: 0.250 | time: 24.16 minutes\n",
      "Epoch: 064/14999 | Loss: 0.0019 | Episodes: 138 | Win count: 15 | Win rate: 0.250 | time: 24.57 minutes\n",
      "Epoch: 065/14999 | Loss: 0.0021 | Episodes: 145 | Win count: 15 | Win rate: 0.250 | time: 25.04 minutes\n",
      "Epoch: 066/14999 | Loss: 0.0456 | Episodes: 148 | Win count: 15 | Win rate: 0.250 | time: 25.50 minutes\n",
      "Epoch: 067/14999 | Loss: 0.0013 | Episodes: 145 | Win count: 15 | Win rate: 0.219 | time: 25.95 minutes\n",
      "Epoch: 068/14999 | Loss: 0.0389 | Episodes: 145 | Win count: 16 | Win rate: 0.219 | time: 26.40 minutes\n",
      "Epoch: 069/14999 | Loss: 0.0028 | Episodes: 142 | Win count: 16 | Win rate: 0.219 | time: 26.85 minutes\n",
      "Epoch: 070/14999 | Loss: 0.0010 | Episodes: 143 | Win count: 16 | Win rate: 0.219 | time: 27.30 minutes\n",
      "Epoch: 071/14999 | Loss: 0.0021 | Episodes: 135 | Win count: 16 | Win rate: 0.219 | time: 27.72 minutes\n",
      "Epoch: 072/14999 | Loss: 0.0307 | Episodes: 134 | Win count: 16 | Win rate: 0.188 | time: 28.14 minutes\n",
      "Epoch: 073/14999 | Loss: 0.0034 | Episodes: 2 | Win count: 17 | Win rate: 0.219 | time: 28.15 minutes\n",
      "Epoch: 074/14999 | Loss: 0.0030 | Episodes: 143 | Win count: 17 | Win rate: 0.219 | time: 28.61 minutes\n",
      "Epoch: 075/14999 | Loss: 0.0005 | Episodes: 139 | Win count: 17 | Win rate: 0.219 | time: 29.05 minutes\n",
      "Epoch: 076/14999 | Loss: 0.0031 | Episodes: 131 | Win count: 17 | Win rate: 0.188 | time: 29.46 minutes\n",
      "Epoch: 077/14999 | Loss: 0.0014 | Episodes: 18 | Win count: 18 | Win rate: 0.188 | time: 29.52 minutes\n",
      "Epoch: 078/14999 | Loss: 0.0011 | Episodes: 139 | Win count: 18 | Win rate: 0.188 | time: 29.95 minutes\n"
     ]
    }
   ],
   "source": [
    "model = build_model(maze)\n",
    "qtrain(model, maze, epochs=1000, max_memory=8*maze.size, data_size=32)"
   ]
  },
  {
   "cell_type": "markdown",
   "metadata": {},
   "source": [
    "This cell will check to see if the model passes the completion check. Note: This could take several minutes."
   ]
  },
  {
   "cell_type": "code",
   "execution_count": null,
   "metadata": {},
   "outputs": [],
   "source": [
    "completion_check(model, qmaze)\n",
    "show(qmaze)"
   ]
  },
  {
   "cell_type": "markdown",
   "metadata": {},
   "source": [
    "This cell will test your model for one game. It will start the pirate at the top-left corner and run play_game. The agent should find a path from the starting position to the target (treasure). The treasure is located in the bottom-right corner."
   ]
  },
  {
   "cell_type": "code",
   "execution_count": null,
   "metadata": {},
   "outputs": [],
   "source": [
    "pirate_start = (0, 0)\n",
    "play_game(model, qmaze, pirate_start)\n",
    "show(qmaze)"
   ]
  },
  {
   "cell_type": "markdown",
   "metadata": {},
   "source": [
    "## Save and Submit Your Work\n",
    "After you have finished creating the code for your notebook, save your work. Make sure that your notebook contains your name in the filename (e.g. Doe_Jane_ProjectTwo.ipynb). This will help your instructor access and grade your work easily. Download a copy of your IPYNB file and submit it to Brightspace. Refer to the Jupyter Notebook in Apporto Tutorial if you need help with these tasks."
   ]
  }
 ],
 "metadata": {
  "kernelspec": {
   "display_name": "Python 3",
   "language": "python",
   "name": "python3"
  },
  "language_info": {
   "codemirror_mode": {
    "name": "ipython",
    "version": 3
   },
   "file_extension": ".py",
   "mimetype": "text/x-python",
   "name": "python",
   "nbconvert_exporter": "python",
   "pygments_lexer": "ipython3",
   "version": "3.7.4"
  }
 },
 "nbformat": 4,
 "nbformat_minor": 2
}
